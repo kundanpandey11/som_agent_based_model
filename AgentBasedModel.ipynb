{
 "cells": [
  {
   "cell_type": "code",
   "execution_count": 1,
   "id": "dd1aece4-5b0d-448a-b152-16513ed98fd6",
   "metadata": {},
   "outputs": [],
   "source": [
    "\n",
    "import warnings\n",
    "warnings.filterwarnings(\"ignore\")"
   ]
  },
  {
   "cell_type": "code",
   "execution_count": 2,
   "id": "f6ff9dd9-298e-453d-a116-0d0bba4f8b10",
   "metadata": {},
   "outputs": [
    {
     "data": {
      "application/vnd.jupyter.widget-view+json": {
       "model_id": "f35efa567faa4f89a66297e2a6325072",
       "version_major": 2,
       "version_minor": 0
      },
      "text/plain": []
     },
     "metadata": {},
     "output_type": "display_data"
    }
   ],
   "source": [
    "#Third party\n",
    "from IPython.display import display\n",
    "import nglview as nv\n",
    "from IPython.display import display, HTML"
   ]
  },
  {
   "cell_type": "code",
   "execution_count": 3,
   "id": "c0016046-5a9b-4aeb-8484-fca9290c5994",
   "metadata": {},
   "outputs": [],
   "source": [
    "#zoym models \n",
    "from zoym import process_cif, react, display_cif\n"
   ]
  },
  {
   "cell_type": "code",
   "execution_count": 4,
   "id": "fc9bbcb3-4cca-4fd0-ae6b-5f0c53140db4",
   "metadata": {},
   "outputs": [],
   "source": [
    "mol1_data, name = display_cif(\"Ac2O3.cif\")\n",
    "mol2_data, name2 = display_cif(\"Ac2GePd.cif\")\n"
   ]
  },
  {
   "cell_type": "code",
   "execution_count": 6,
   "id": "e00f0553-b582-4427-b6b1-cb0b12d2bdeb",
   "metadata": {
    "scrolled": true
   },
   "outputs": [
    {
     "data": {
      "text/html": [
       "<h3>Ac2 O3</h3>"
      ],
      "text/plain": [
       "<IPython.core.display.HTML object>"
      ]
     },
     "metadata": {},
     "output_type": "display_data"
    },
    {
     "data": {
      "application/vnd.jupyter.widget-view+json": {
       "model_id": "7a5d97d4fa264252ad40e2d26c6c09c4",
       "version_major": 2,
       "version_minor": 0
      },
      "text/plain": [
       "NGLWidget()"
      ]
     },
     "metadata": {},
     "output_type": "display_data"
    },
    {
     "data": {
      "text/html": [
       "<h3>Ac2 Ge1 Pd1</h3>"
      ],
      "text/plain": [
       "<IPython.core.display.HTML object>"
      ]
     },
     "metadata": {},
     "output_type": "display_data"
    },
    {
     "data": {
      "application/vnd.jupyter.widget-view+json": {
       "model_id": "e14421cd1bb3440da161ca70c276162f",
       "version_major": 2,
       "version_minor": 0
      },
      "text/plain": [
       "NGLWidget()"
      ]
     },
     "metadata": {},
     "output_type": "display_data"
    }
   ],
   "source": [
    "#display the reactant molecules\n",
    "view = nv.show_ase(mol1_data)\n",
    "display(HTML(f\"<h3>{name}</h3>\"))  \n",
    "view.add_unitcell()\n",
    "display(view)\n",
    "\n",
    "view2 = nv.show_ase(mol2_data)\n",
    "display(HTML(f\"<h3>{name2}</h3>\"))  \n",
    "view2.add_unitcell()\n",
    "display(view2)"
   ]
  },
  {
   "cell_type": "code",
   "execution_count": 7,
   "id": "b3c1e126-9aab-4bf4-8b2d-c8c23f335864",
   "metadata": {},
   "outputs": [
    {
     "name": "stdout",
     "output_type": "stream",
     "text": [
      "\n",
      "Resolving cif files...\n",
      "Getting force fields for respective files...\n",
      "Success!\n",
      "Retrieving Atoms...\n",
      "Success!\n",
      "Calculating potential energy...\n",
      "Success!\n",
      "Result molecule files are ready!\n",
      "\n"
     ]
    }
   ],
   "source": [
    "solutions, names = react([\"Ac2O3.cif\"], \"Ac2GePd.cif\")"
   ]
  },
  {
   "cell_type": "code",
   "execution_count": 8,
   "id": "904194a0-acc8-40d8-aac5-c16ef8b5b1d6",
   "metadata": {},
   "outputs": [
    {
     "data": {
      "text/html": [
       "<h3>Ac3</h3>"
      ],
      "text/plain": [
       "<IPython.core.display.HTML object>"
      ]
     },
     "metadata": {},
     "output_type": "display_data"
    },
    {
     "data": {
      "application/vnd.jupyter.widget-view+json": {
       "model_id": "5aba9eb2bd6c43bf80a6eb87e965684f",
       "version_major": 2,
       "version_minor": 0
      },
      "text/plain": [
       "NGLWidget()"
      ]
     },
     "metadata": {},
     "output_type": "display_data"
    },
    {
     "data": {
      "text/html": [
       "<h3>Ge2 O4</h3>"
      ],
      "text/plain": [
       "<IPython.core.display.HTML object>"
      ]
     },
     "metadata": {},
     "output_type": "display_data"
    },
    {
     "data": {
      "application/vnd.jupyter.widget-view+json": {
       "model_id": "20816e03c85b43669fc345ddf23c0e6c",
       "version_major": 2,
       "version_minor": 0
      },
      "text/plain": [
       "NGLWidget()"
      ]
     },
     "metadata": {},
     "output_type": "display_data"
    },
    {
     "data": {
      "text/html": [
       "<h3>Pd2 O2</h3>"
      ],
      "text/plain": [
       "<IPython.core.display.HTML object>"
      ]
     },
     "metadata": {},
     "output_type": "display_data"
    },
    {
     "data": {
      "application/vnd.jupyter.widget-view+json": {
       "model_id": "e0c298e9b3954c3fbdb3f9607a6b59df",
       "version_major": 2,
       "version_minor": 0
      },
      "text/plain": [
       "NGLWidget()"
      ]
     },
     "metadata": {},
     "output_type": "display_data"
    }
   ],
   "source": [
    "for molecule, name in zip(solutions, names):\n",
    "    display(HTML(f\"<h3>{name}</h3>\"))  \n",
    "    view = nv.show_ase(molecule)\n",
    "    view.add_unitcell()\n",
    "    display(view)"
   ]
  },
  {
   "cell_type": "code",
   "execution_count": null,
   "id": "5c72a1f8-4e70-4a03-8180-545719c57dfd",
   "metadata": {},
   "outputs": [],
   "source": []
  }
 ],
 "metadata": {
  "kernelspec": {
   "display_name": "Python 3 (ipykernel)",
   "language": "python",
   "name": "python3"
  },
  "language_info": {
   "codemirror_mode": {
    "name": "ipython",
    "version": 3
   },
   "file_extension": ".py",
   "mimetype": "text/x-python",
   "name": "python",
   "nbconvert_exporter": "python",
   "pygments_lexer": "ipython3",
   "version": "3.11.0"
  }
 },
 "nbformat": 4,
 "nbformat_minor": 5
}
